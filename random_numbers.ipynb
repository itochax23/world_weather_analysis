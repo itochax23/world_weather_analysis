{
 "cells": [
  {
   "cell_type": "code",
   "execution_count": 1,
   "id": "927e9d5d",
   "metadata": {},
   "outputs": [],
   "source": [
    "# Import the random module.\n",
    "import random"
   ]
  },
  {
   "cell_type": "code",
   "execution_count": 2,
   "id": "e9e8e079",
   "metadata": {},
   "outputs": [
    {
     "data": {
      "text/plain": [
       "-84"
      ]
     },
     "execution_count": 2,
     "metadata": {},
     "output_type": "execute_result"
    }
   ],
   "source": [
    "# We changed the lower range of the randint() because we want whole numbers up to 89\n",
    "random.randint(-90, 90)"
   ]
  },
  {
   "cell_type": "code",
   "execution_count": 3,
   "id": "c8ad22d8",
   "metadata": {},
   "outputs": [
    {
     "data": {
      "text/plain": [
       "0.7095524026625314"
      ]
     },
     "execution_count": 3,
     "metadata": {},
     "output_type": "execute_result"
    }
   ],
   "source": [
    "random.random()"
   ]
  },
  {
   "cell_type": "code",
   "execution_count": 4,
   "id": "603a4011",
   "metadata": {},
   "outputs": [
    {
     "data": {
      "text/plain": [
       "17.387824344557412"
      ]
     },
     "execution_count": 4,
     "metadata": {},
     "output_type": "execute_result"
    }
   ],
   "source": [
    "random_number = random.randint(-90, 89) + random.random()\n",
    "random_number"
   ]
  },
  {
   "cell_type": "code",
   "execution_count": 5,
   "id": "226e4e5e",
   "metadata": {},
   "outputs": [],
   "source": [
    "# Here is a small sample of what it might take to generate ten random \n",
    "# floating-point decimal latitudes between –90 and 89.\n",
    "x = 1\n",
    "latitudes = []\n",
    "while x < 11:\n",
    "    random_lat = random.randint(-90, 89) + random.random()\n",
    "    latitudes.append(random_lat)\n",
    "    x += 1"
   ]
  },
  {
   "cell_type": "code",
   "execution_count": 6,
   "id": "9050bd5a",
   "metadata": {},
   "outputs": [
    {
     "data": {
      "text/plain": [
       "[60.97705089436067,\n",
       " -57.056948583481535,\n",
       " -58.47906047254989,\n",
       " -85.17311200342468,\n",
       " -69.33637893778456,\n",
       " 29.130019944113613,\n",
       " -50.77137245627411,\n",
       " -3.290221401486236,\n",
       " -15.544160726574466,\n",
       " -21.899317246246042]"
      ]
     },
     "execution_count": 6,
     "metadata": {},
     "output_type": "execute_result"
    }
   ],
   "source": [
    "latitudes"
   ]
  },
  {
   "cell_type": "code",
   "execution_count": 7,
   "id": "45d68916",
   "metadata": {},
   "outputs": [
    {
     "data": {
      "text/plain": [
       "-67"
      ]
     },
     "execution_count": 7,
     "metadata": {},
     "output_type": "execute_result"
    }
   ],
   "source": [
    "random.randrange(-90, 90, step=1)"
   ]
  },
  {
   "cell_type": "code",
   "execution_count": 9,
   "id": "eb7c77b9",
   "metadata": {},
   "outputs": [
    {
     "data": {
      "text/plain": [
       "12"
      ]
     },
     "execution_count": 9,
     "metadata": {},
     "output_type": "execute_result"
    }
   ],
   "source": [
    "random.randrange(-90, 90, step=3)"
   ]
  },
  {
   "cell_type": "code",
   "execution_count": 13,
   "id": "9c86471b",
   "metadata": {},
   "outputs": [],
   "source": [
    "y = 1\n",
    "long = []\n",
    "while y < 11:\n",
    "    random_long = random.randrange(-90, 90, step=3)\n",
    "    long.append(random_long)\n",
    "    y += 1"
   ]
  },
  {
   "cell_type": "code",
   "execution_count": 14,
   "id": "b99f1aea",
   "metadata": {},
   "outputs": [
    {
     "data": {
      "text/plain": [
       "[-15, -3, 33, 66, 9, 27, -36, -87, -42, 72]"
      ]
     },
     "execution_count": 14,
     "metadata": {},
     "output_type": "execute_result"
    }
   ],
   "source": [
    "long"
   ]
  },
  {
   "cell_type": "code",
   "execution_count": 15,
   "id": "b755589e",
   "metadata": {},
   "outputs": [
    {
     "data": {
      "text/plain": [
       "-85.19052221167273"
      ]
     },
     "execution_count": 15,
     "metadata": {},
     "output_type": "execute_result"
    }
   ],
   "source": [
    "random.uniform(-90, 90)"
   ]
  },
  {
   "cell_type": "code",
   "execution_count": 16,
   "id": "fdd092ff",
   "metadata": {},
   "outputs": [],
   "source": [
    "# Import the NumPy module.\n",
    "import numpy as np"
   ]
  },
  {
   "cell_type": "code",
   "execution_count": 17,
   "id": "6f118066",
   "metadata": {},
   "outputs": [
    {
     "data": {
      "text/plain": [
       "22.701879400282706"
      ]
     },
     "execution_count": 17,
     "metadata": {},
     "output_type": "execute_result"
    }
   ],
   "source": [
    "np.random.uniform(-90, 90)"
   ]
  },
  {
   "cell_type": "code",
   "execution_count": 19,
   "id": "893256e1",
   "metadata": {},
   "outputs": [
    {
     "data": {
      "text/plain": [
       "array([-79.31556976, -76.59784559,  39.42366494, -54.45104128,\n",
       "        38.46742676,  11.97866922, -58.17640767, -82.34307147,\n",
       "       -13.30963101, -78.80253003,  16.10096032,  16.84838908,\n",
       "        68.45759341,  20.68754669, -38.35842979,  64.95616717,\n",
       "        49.50245713, -26.07088934,  40.90356616,  56.89885514,\n",
       "       -17.76303961,  24.44161756,  80.29767553,  15.74343811,\n",
       "       -50.95335946, -58.74971024,  50.89864103,  25.15529437,\n",
       "        -6.73847945, -60.48122525,  61.36238316, -62.61733833,\n",
       "       -14.56923825, -38.06928278,  -7.64181333])"
      ]
     },
     "execution_count": 19,
     "metadata": {},
     "output_type": "execute_result"
    }
   ],
   "source": [
    "np.random.uniform(-90, 90, size=35)"
   ]
  },
  {
   "cell_type": "code",
   "execution_count": 20,
   "id": "92121f16",
   "metadata": {},
   "outputs": [],
   "source": [
    "# Import timeit.\n",
    "import timeit"
   ]
  },
  {
   "cell_type": "code",
   "execution_count": 21,
   "id": "f031f3c3",
   "metadata": {},
   "outputs": [
    {
     "name": "stdout",
     "output_type": "stream",
     "text": [
      "11.8 µs ± 244 ns per loop (mean ± std. dev. of 7 runs, 100000 loops each)\n"
     ]
    }
   ],
   "source": [
    "%timeit np.random.uniform(-90, 90, size=1500)\n",
    "# The amount of time it takes to run this code depends on the processing speed and the RAM of your computer."
   ]
  },
  {
   "cell_type": "code",
   "execution_count": 22,
   "id": "bd68c694",
   "metadata": {},
   "outputs": [
    {
     "name": "stdout",
     "output_type": "stream",
     "text": [
      "1.64 ms ± 37 µs per loop (mean ± std. dev. of 7 runs, 1000 loops each)\n"
     ]
    }
   ],
   "source": [
    "def latitudes(size):\n",
    "    latitudes = []\n",
    "    x = 0\n",
    "    while x < (size):\n",
    "        random_lat = random.randint(-90, 90) + random.random()\n",
    "        latitudes.append(random_lat)\n",
    "        x += 1\n",
    "    return latitudes\n",
    "# Call the function with 1500.\n",
    "%timeit latitudes(1500)"
   ]
  },
  {
   "cell_type": "code",
   "execution_count": null,
   "id": "c87fa6bc",
   "metadata": {},
   "outputs": [],
   "source": []
  }
 ],
 "metadata": {
  "kernelspec": {
   "display_name": "PythonData",
   "language": "python",
   "name": "pythondata"
  },
  "language_info": {
   "codemirror_mode": {
    "name": "ipython",
    "version": 3
   },
   "file_extension": ".py",
   "mimetype": "text/x-python",
   "name": "python",
   "nbconvert_exporter": "python",
   "pygments_lexer": "ipython3",
   "version": "3.7.10"
  }
 },
 "nbformat": 4,
 "nbformat_minor": 5
}
